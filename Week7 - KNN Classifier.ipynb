{
 "cells": [
  {
   "cell_type": "markdown",
   "metadata": {},
   "source": [
    "# K Nearest Neighbour Classifier"
   ]
  },
  {
   "cell_type": "code",
   "execution_count": null,
   "metadata": {},
   "outputs": [],
   "source": [
    "#Imports\n",
    "import numpy as np\n",
    "from pprint import pprint\n",
    "from scipy import stats\n",
    "\n",
    "np.random.seed(42)\n",
    "\n",
    "from sklearn.datasets import fetch_openml\n",
    "\n",
    "from sklearn.preprocessing import MinMaxScaler\n",
    "\n",
    "from sklearn.decomposition import PCA\n",
    "\n",
    "from sklearn.pipeline import make_pipeline\n",
    "\n",
    "from sklearn.dummy import DummyClassifier\n",
    "from sklearn.neighbors import KNeighborsClassifier\n",
    "\n",
    "from sklearn.model_selection import cross_validate, RandomizedSearchCV, GridSearchCV, cross_val_predict\n",
    "from sklearn.model_selection import learning_curve\n",
    "\n",
    "from sklearn.metrics import ConfusionMatrixDisplay\n",
    "from sklearn.metrics import classification_report\n",
    "from sklearn.metrics import f1_score, precision_score\n",
    "from sklearn.metrics import make_scorer\n",
    "\n",
    "import matplotlib as mpl\n",
    "import matplotlib.pyplot as plt\n",
    "import seaborn as sns\n",
    "from matplotlib.colors import ListedColormap\n",
    "\n",
    "mpl.rc('axes', labelsize=14)\n",
    "mpl.rc('xtick', labelsize=12)\n",
    "mpl.rc('ytick', labelsize=12)\n",
    "mpl.rc('figure', figsize=(8,6))"
   ]
  },
  {
   "cell_type": "markdown",
   "metadata": {},
   "source": [
    "## Dataset"
   ]
  },
  {
   "cell_type": "code",
   "execution_count": null,
   "metadata": {},
   "outputs": [],
   "source": [
    "X, y = fetch_openml('mnist_784', version=1, return_X_y=True)\n",
    "\n",
    "X = X.to_numpy()\n",
    "y = y.to_numpy()\n",
    "x_train, y_train, x_test, y_test = X[:60000], y[:60000], X[60000:], y[60000:]"
   ]
  },
  {
   "cell_type": "code",
   "execution_count": null,
   "metadata": {},
   "outputs": [],
   "source": [
    "type(y_train[0])"
   ]
  },
  {
   "cell_type": "markdown",
   "metadata": {},
   "source": [
    "## Binary classification"
   ]
  },
  {
   "cell_type": "markdown",
   "metadata": {},
   "source": [
    "### Change labels to binary"
   ]
  },
  {
   "cell_type": "code",
   "execution_count": null,
   "metadata": {},
   "outputs": [],
   "source": [
    "# Initialize new variable names with all -1\n",
    "y_train_0 = -1*np.ones((len(y_train)))\n",
    "y_test_0 = -1*np.ones((len(y_test)))\n",
    "\n",
    "#find indices of the digit 0 image\n",
    "indx_0 = np.where(y_train == '0')\n",
    "y_train_0[indx_0] = 1\n",
    "\n",
    "indx_0 = np.where(y_test == '0')\n",
    "y_test_0[indx_0] = 1"
   ]
  },
  {
   "cell_type": "markdown",
   "metadata": {},
   "source": [
    "### Data visualisation in lower dimension"
   ]
  },
  {
   "cell_type": "code",
   "execution_count": null,
   "metadata": {},
   "outputs": [],
   "source": [
    "pipe_pca_2d = make_pipeline(MinMaxScaler(), PCA(n_components=2))\n",
    "x_train_pca_2d = pipe_pca_2d.fit_transform(x_train)"
   ]
  },
  {
   "cell_type": "code",
   "execution_count": null,
   "metadata": {},
   "outputs": [],
   "source": [
    "cmap = ListedColormap(['r', 'b'])\n",
    "plt.figure(figsize=(8,8))\n",
    "sns.scatterplot(x = x_train_pca_2d[:,0], y=x_train_pca_2d[:,1], hue=y_train_0, palette=cmap)"
   ]
  },
  {
   "cell_type": "code",
   "execution_count": null,
   "metadata": {},
   "outputs": [],
   "source": [
    "pipe_pca_3d = make_pipeline(MinMaxScaler(), PCA(n_components=3))\n",
    "x_train_pca_3d = pipe_pca_3d.fit_transform(x_train)"
   ]
  },
  {
   "cell_type": "code",
   "execution_count": null,
   "metadata": {},
   "outputs": [],
   "source": [
    "import plotly.express as px\n",
    "fig = px.scatter_3d(x = x_train_pca_3d[:,0],\n",
    "                y = x_train_pca_3d[:,1],\n",
    "                z = x_train_pca_3d[:,2],\n",
    "                color = y_train_0,\n",
    "                color_discrete_map =cmap,\n",
    "                opacity = 0.5)\n",
    "fig.show()"
   ]
  },
  {
   "cell_type": "markdown",
   "metadata": {},
   "source": [
    "### KNN classifier"
   ]
  },
  {
   "cell_type": "code",
   "execution_count": null,
   "metadata": {},
   "outputs": [],
   "source": [
    "pipe_clf_pca_2d = make_pipeline(pipe_pca_2d, KNeighborsClassifier(n_neighbors=3))"
   ]
  },
  {
   "cell_type": "markdown",
   "metadata": {},
   "source": [
    "* Let's train a model with 10 samples from training set\n",
    "* Then test the model with 10 datapoints from the test set"
   ]
  },
  {
   "cell_type": "code",
   "execution_count": null,
   "metadata": {},
   "outputs": [],
   "source": [
    "index_neg = np.argsort(y_train_0)[:5]\n",
    "index_pos = np.argsort(y_train_0)[-1:-6:-1]"
   ]
  },
  {
   "cell_type": "markdown",
   "metadata": {},
   "source": [
    "Sanity check"
   ]
  },
  {
   "cell_type": "code",
   "execution_count": null,
   "metadata": {},
   "outputs": [],
   "source": [
    "#Ensure first 10 samples are mix of both classes\n",
    "print(\"Pos classes:\", y_train_0[index_pos])\n",
    "print(\"Neg classes:\", y_train_0[index_neg])"
   ]
  },
  {
   "cell_type": "code",
   "execution_count": null,
   "metadata": {},
   "outputs": [],
   "source": [
    "# Create a small dataset\n",
    "\n",
    "x = np.vstack((x_train[index_pos,:], x_train[index_neg,:]))\n",
    "print(x.shape)\n",
    "y = np.hstack((y_train_0[index_pos], y_train_0[index_neg]))\n",
    "print(y.shape)"
   ]
  },
  {
   "cell_type": "code",
   "execution_count": null,
   "metadata": {},
   "outputs": [],
   "source": [
    "pipe_clf_pca_2d.fit(x, y)\n",
    "x_reduced = pipe_clf_pca_2d[0].transform(x)"
   ]
  },
  {
   "cell_type": "code",
   "execution_count": null,
   "metadata": {},
   "outputs": [],
   "source": [
    "cmap = ListedColormap(['r', 'b'])\n",
    "plt.figure(figsize=(6,4))\n",
    "sns.scatterplot(x = x_reduced[:,0], y=x_reduced[:,1], marker ='o', hue=y, palette=cmap)"
   ]
  },
  {
   "cell_type": "code",
   "execution_count": null,
   "metadata": {},
   "outputs": [],
   "source": [
    "y_hat_0 = pipe_clf_pca_2d.predict(x_test[:10, :])\n",
    "ConfusionMatrixDisplay.from_predictions(y_test_0[:10], y_hat_0)\n",
    "print('Test labels:', y_test_0[:10])\n",
    "plt.show()"
   ]
  },
  {
   "cell_type": "code",
   "execution_count": null,
   "metadata": {},
   "outputs": [],
   "source": [
    "cmap = ListedColormap(['r', 'b'])\n",
    "plt.figure(figsize=(6,4))\n",
    "sns.scatterplot(x = x_reduced[:,0], y=x_reduced[:,1], marker ='o', hue=y, palette=cmap)\n",
    "\n",
    "x_test_reduced = pipe_clf_pca_2d[0].transform(x_test[:10,:])\n",
    "sns.scatterplot(x = x_test_reduced[:,0], y=x_test_reduced[:,1],s=100, marker ='*', hue=y_test_0[:10], palette=cmap, legend=None)\n",
    "\n",
    "dx, dy = -0.1, 0.2\n",
    "for i in range(10):\n",
    "    plt.annotate(str(y_hat_0[i]), xy = (x_test_reduced[i,0]+dx, x_test_reduced[i, 1]+dy))\n",
    "\n",
    "plt.grid(True)\n",
    "plt.show()"
   ]
  },
  {
   "cell_type": "markdown",
   "metadata": {},
   "source": [
    "* It would be better if we know the distance of 3 neighbours for each test point\n",
    "* Let us display the distance and connectivity of neighbours to the test datapoints using `NearestNeighbour` class"
   ]
  },
  {
   "cell_type": "code",
   "execution_count": null,
   "metadata": {},
   "outputs": [],
   "source": [
    "from sklearn.neighbors import NearestNeighbors\n",
    "neighbours = NearestNeighbors(n_neighbors=3)\n",
    "neighbours.fit(pipe_pca_2d.transform(x))"
   ]
  },
  {
   "cell_type": "code",
   "execution_count": null,
   "metadata": {},
   "outputs": [],
   "source": [
    "dist_neighbours, idx_neighbours = neighbours.kneighbors(pipe_pca_2d.transform(x_test[:10]), 3, return_distance=True)\n"
   ]
  },
  {
   "cell_type": "code",
   "execution_count": null,
   "metadata": {},
   "outputs": [],
   "source": [
    "for i in range(3):\n",
    "    print('Distance: {0}, \\nIndex:{1}, \\nLables:{2} \\nPrediction: {3} '.format(dist_neighbours[i],\n",
    "                                                                             idx_neighbours[i],\n",
    "                                                                             y[idx_neighbours[i].flatten()],\n",
    "                                                                             stats.mode(y[idx_neighbours[i].flatten()]).mode[0]))"
   ]
  },
  {
   "cell_type": "code",
   "execution_count": null,
   "metadata": {},
   "outputs": [],
   "source": [
    "pipe_clf_pca_2d.fit(x_train[:10000], y_train_0[:10000])"
   ]
  },
  {
   "cell_type": "code",
   "execution_count": null,
   "metadata": {},
   "outputs": [],
   "source": [
    "y_hat_0 = pipe_clf_pca_2d.predict(x_test)\n",
    "ConfusionMatrixDisplay.from_predictions(y_test_0, y_hat_0)\n",
    "plt.show()"
   ]
  },
  {
   "cell_type": "code",
   "execution_count": null,
   "metadata": {},
   "outputs": [],
   "source": [
    "print(classification_report(y_test_0, y_hat_0))"
   ]
  },
  {
   "cell_type": "markdown",
   "metadata": {},
   "source": [
    "* Let's vary the `n_neighbours` from k=1 tp 19 and study the performance of the model\n",
    "* We use the first 10k samples from training set"
   ]
  },
  {
   "cell_type": "code",
   "execution_count": null,
   "metadata": {},
   "outputs": [],
   "source": [
    "precision = []\n",
    "for k in range(1, 20, 2):\n",
    "    pipe_clf_pca_2d.__n_neighbors = k\n",
    "    pipe_clf_pca_2d.fit(x_train[:10000], y_train_0[:10000])\n",
    "    y_hat_0 = pipe_clf_pca_2d.predict(x_test)\n",
    "    precision.append(precision_score(y_test_0, y_hat_0))"
   ]
  },
  {
   "cell_type": "code",
   "execution_count": null,
   "metadata": {},
   "outputs": [],
   "source": [
    "plt.figure(fig)"
   ]
  }
 ],
 "metadata": {
  "kernelspec": {
   "display_name": "Python 3.10.2 64-bit",
   "language": "python",
   "name": "python3"
  },
  "language_info": {
   "codemirror_mode": {
    "name": "ipython",
    "version": 3
   },
   "file_extension": ".py",
   "mimetype": "text/x-python",
   "name": "python",
   "nbconvert_exporter": "python",
   "pygments_lexer": "ipython3",
   "version": "3.10.2"
  },
  "orig_nbformat": 4,
  "vscode": {
   "interpreter": {
    "hash": "369f2c481f4da34e4445cda3fffd2e751bd1c4d706f27375911949ba6bb62e1c"
   }
  }
 },
 "nbformat": 4,
 "nbformat_minor": 2
}
