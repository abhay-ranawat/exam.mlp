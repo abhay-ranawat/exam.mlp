{
 "cells": [
  {
   "cell_type": "markdown",
   "id": "7c5bd049-53cd-40eb-bb09-bfc2453a52bd",
   "metadata": {},
   "source": [
    "# Loaders"
   ]
  },
  {
   "cell_type": "code",
   "execution_count": null,
   "id": "df6b8146-aa2f-40a4-a502-a400865479e7",
   "metadata": {},
   "outputs": [],
   "source": [
    "from sklearn.datasets import load_iris\n",
    "data = load_iris() #Return a Bunch object"
   ]
  },
  {
   "cell_type": "code",
   "execution_count": null,
   "id": "86d90222-5470-49f0-a4b6-733aa16a5709",
   "metadata": {},
   "outputs": [],
   "source": [
    "type(data) "
   ]
  },
  {
   "cell_type": "markdown",
   "id": "b82ffce2-39ec-4e43-943f-80c8d4365253",
   "metadata": {},
   "source": [
    "Contains i) data ii) target iii) feature_names iv)target_names v)DESCR vi) filename"
   ]
  },
  {
   "cell_type": "code",
   "execution_count": null,
   "id": "3d2b4875-fb16-4dd4-a79a-0de00c0bedbb",
   "metadata": {},
   "outputs": [],
   "source": [
    "data.feature_names"
   ]
  },
  {
   "cell_type": "code",
   "execution_count": null,
   "id": "8f7a329a-00ca-47d4-bf6c-971479f22fbc",
   "metadata": {},
   "outputs": [],
   "source": [
    "data.DESCR"
   ]
  },
  {
   "cell_type": "code",
   "execution_count": null,
   "id": "d07715bd-f113-41d1-b649-86b69185aad0",
   "metadata": {},
   "outputs": [],
   "source": [
    "data.data[:5] #First five rows from feature matrix"
   ]
  },
  {
   "cell_type": "code",
   "execution_count": null,
   "id": "a1779af4-9bf9-451d-a49f-376b49175a32",
   "metadata": {},
   "outputs": [],
   "source": [
    "data.target_names #Lables"
   ]
  },
  {
   "cell_type": "code",
   "execution_count": null,
   "id": "bc3332b7-905b-4b37-a6f1-d22c162009f3",
   "metadata": {},
   "outputs": [],
   "source": [
    "data.target"
   ]
  },
  {
   "cell_type": "code",
   "execution_count": null,
   "id": "e104c498-3d07-49dc-b38c-282e4c3e67e4",
   "metadata": {},
   "outputs": [],
   "source": [
    "?load_iris "
   ]
  },
  {
   "cell_type": "markdown",
   "id": "b7346cca-3bab-4aab-b5b8-41b36faf7865",
   "metadata": {},
   "source": [
    "We can make the load function output tuples of fetures and labels"
   ]
  },
  {
   "cell_type": "code",
   "execution_count": null,
   "id": "1fe1b42d-8e49-4136-8123-5c062f9e648c",
   "metadata": {},
   "outputs": [],
   "source": [
    "feature_matrix, label_vector = load_iris(return_X_y = True)"
   ]
  },
  {
   "cell_type": "code",
   "execution_count": null,
   "id": "879c9618-beb7-4b9e-873f-4dd2d08e581c",
   "metadata": {},
   "outputs": [],
   "source": [
    "print(\"Shape of feature matrix:\", feature_matrix.shape)\n",
    "print(\"Shape of label vector:\", label_vector.shape)"
   ]
  },
  {
   "cell_type": "markdown",
   "id": "9dc4c190-4b7f-4f6f-8ec6-20332511b7c4",
   "metadata": {},
   "source": [
    "## Loading Diabetes dataset"
   ]
  },
  {
   "cell_type": "code",
   "execution_count": null,
   "id": "e729bde3-498d-45f5-b71b-95651adc39ee",
   "metadata": {},
   "outputs": [],
   "source": [
    "from sklearn.datasets import load_diabetes\n",
    "data = load_diabetes()"
   ]
  },
  {
   "cell_type": "code",
   "execution_count": null,
   "id": "52a20839-6cd2-49ec-8a1c-d391f4d682d9",
   "metadata": {},
   "outputs": [],
   "source": [
    "data.DESCR"
   ]
  },
  {
   "cell_type": "code",
   "execution_count": null,
   "id": "c012de8d-b043-48bf-a22c-8beaa0ad2746",
   "metadata": {},
   "outputs": [],
   "source": [
    "data.data[:5]"
   ]
  },
  {
   "cell_type": "code",
   "execution_count": null,
   "id": "11854b48-5153-4a6a-a804-e9db116e1b2d",
   "metadata": {},
   "outputs": [],
   "source": [
    "data.feature_names"
   ]
  },
  {
   "cell_type": "code",
   "execution_count": null,
   "id": "217bedbd-d912-4ccb-a7ef-226cba3741ba",
   "metadata": {},
   "outputs": [],
   "source": [
    "data.target"
   ]
  },
  {
   "cell_type": "code",
   "execution_count": null,
   "id": "9e42def7-43f5-4f34-84ea-74674f29812f",
   "metadata": {},
   "outputs": [],
   "source": [
    "data.target.shape"
   ]
  },
  {
   "cell_type": "markdown",
   "id": "54ac1472-6f1e-431e-b6fe-ac167474d9a5",
   "metadata": {},
   "source": [
    "# Fetchers"
   ]
  },
  {
   "cell_type": "code",
   "execution_count": null,
   "id": "2039a164-f9de-4f94-95a6-184a3542ed5a",
   "metadata": {},
   "outputs": [],
   "source": [
    "from sklearn.datasets import fetch_california_housing\n",
    "?fetch_california_housing"
   ]
  },
  {
   "cell_type": "code",
   "execution_count": null,
   "id": "ab74b996-fca7-41ee-a4a2-f43aa5876679",
   "metadata": {},
   "outputs": [],
   "source": [
    "housing_data = fetch_california_housing()"
   ]
  },
  {
   "cell_type": "code",
   "execution_count": null,
   "id": "5cb7178f-a4ac-47d8-91f3-f74daa706342",
   "metadata": {},
   "outputs": [],
   "source": [
    "type(housing_data)"
   ]
  },
  {
   "cell_type": "code",
   "execution_count": null,
   "id": "e5233e9b-38ee-46ad-8862-e6379a2bfd3b",
   "metadata": {},
   "outputs": [],
   "source": [
    "housing_data.feature_names"
   ]
  },
  {
   "cell_type": "code",
   "execution_count": null,
   "id": "f1429ae1-57e1-49ad-930d-f9cc161dea1c",
   "metadata": {},
   "outputs": [],
   "source": [
    "housing_data.target.shape"
   ]
  },
  {
   "cell_type": "code",
   "execution_count": null,
   "id": "0cde1477-bc60-48ce-99d2-1ed65aa67bf5",
   "metadata": {},
   "outputs": [],
   "source": [
    "housing_data.data.shape"
   ]
  },
  {
   "cell_type": "code",
   "execution_count": null,
   "id": "1d219082-aa05-4290-9262-6d9d8c01f4d8",
   "metadata": {},
   "outputs": [],
   "source": [
    "housing_data.data[:5]"
   ]
  },
  {
   "cell_type": "code",
   "execution_count": null,
   "id": "5527df2e-56e4-4a32-8eab-bd995825e281",
   "metadata": {},
   "outputs": [],
   "source": [
    "housing_data.target[:5]"
   ]
  },
  {
   "cell_type": "code",
   "execution_count": null,
   "id": "c6b4f942-b5a0-4bf9-bea1-a266f5f7f4d5",
   "metadata": {},
   "outputs": [],
   "source": [
    "housing_data.target_names"
   ]
  },
  {
   "cell_type": "code",
   "execution_count": null,
   "id": "80c5efc7-89f9-4a30-9f0e-492cf4edaf62",
   "metadata": {},
   "outputs": [],
   "source": [
    "housing_data.DESCR"
   ]
  },
  {
   "cell_type": "markdown",
   "id": "26b1a798-2af1-4fcc-9ea8-0455e85b613a",
   "metadata": {},
   "source": [
    "# Generators"
   ]
  },
  {
   "cell_type": "code",
   "execution_count": null,
   "id": "49598346-190c-45e4-b9ac-161b32170db4",
   "metadata": {},
   "outputs": [],
   "source": [
    "from sklearn.datasets import make_regression\n",
    "?make_regression"
   ]
  },
  {
   "cell_type": "code",
   "execution_count": null,
   "id": "7b4327d7-6e1d-4160-a14a-bffb9c1fc949",
   "metadata": {},
   "outputs": [],
   "source": [
    "X, y = make_regression(n_samples=100, n_features=5, n_targets=1, shuffle=True, random_state=45)\n",
    "X.shape"
   ]
  },
  {
   "cell_type": "code",
   "execution_count": null,
   "id": "aecf7514-c7b6-432f-9298-6214cfad6d44",
   "metadata": {},
   "outputs": [],
   "source": [
    "y.shape"
   ]
  },
  {
   "cell_type": "code",
   "execution_count": null,
   "id": "4ef8a05b-7473-447c-9157-5e8fd78f7bc1",
   "metadata": {},
   "outputs": [],
   "source": [
    "X, y = make_regression(n_samples=100, n_features=5, n_targets=5, shuffle=True, random_state=45)\n",
    "X.shape"
   ]
  },
  {
   "cell_type": "code",
   "execution_count": null,
   "id": "6f757878-9f22-482d-8fc1-41cc6efa1636",
   "metadata": {},
   "outputs": [],
   "source": [
    "y.shape"
   ]
  },
  {
   "cell_type": "code",
   "execution_count": null,
   "id": "a2faddc9-f5c3-40d4-987c-c26a131bd3cb",
   "metadata": {},
   "outputs": [],
   "source": [
    "from sklearn.datasets import make_classification\n",
    "?make_classification"
   ]
  },
  {
   "cell_type": "code",
   "execution_count": null,
   "id": "fee89008-1475-492a-a282-ca2f08aac9a0",
   "metadata": {},
   "outputs": [],
   "source": [
    "X, y = make_classification(n_samples=100, n_features=10, n_classes=2, n_clusters_per_class=1, random_state=42)"
   ]
  },
  {
   "cell_type": "code",
   "execution_count": null,
   "id": "faabe85e-3bc6-47de-9450-5b1a7cb2172f",
   "metadata": {},
   "outputs": [],
   "source": [
    "X.shape"
   ]
  },
  {
   "cell_type": "code",
   "execution_count": null,
   "id": "9ce84261-b66a-4e02-be05-af0670f9138f",
   "metadata": {},
   "outputs": [],
   "source": [
    "y.shape"
   ]
  },
  {
   "cell_type": "code",
   "execution_count": null,
   "id": "ff139486-f809-4ae8-a75b-6e5af5030bb5",
   "metadata": {},
   "outputs": [],
   "source": [
    "from sklearn.datasets import make_multilabel_classification \n",
    "X, y = make_multilabel_classification(n_samples=100, n_features=20, n_classes=5, n_labels=2)\n",
    "X.shape"
   ]
  },
  {
   "cell_type": "code",
   "execution_count": null,
   "id": "db7da4b3-9df0-4e5f-ac77-376742f3451f",
   "metadata": {},
   "outputs": [],
   "source": [
    "y.shape"
   ]
  },
  {
   "cell_type": "code",
   "execution_count": null,
   "id": "f8751b0d-d113-48e9-9df4-e794eac0346a",
   "metadata": {},
   "outputs": [],
   "source": [
    "from sklearn.datasets import make_blobs\n",
    "?make_blobs"
   ]
  },
  {
   "cell_type": "code",
   "execution_count": null,
   "id": "429b8bd9-5949-4730-9547-a4558bb26f67",
   "metadata": {},
   "outputs": [],
   "source": [
    "X, y = make_blobs(n_samples=10, centers=3, n_features=2, random_state=42)\n",
    "X.shape"
   ]
  },
  {
   "cell_type": "code",
   "execution_count": null,
   "id": "d7c7e540-88ec-4816-bf36-00369d4239ea",
   "metadata": {},
   "outputs": [],
   "source": [
    "y.shape"
   ]
  },
  {
   "cell_type": "code",
   "execution_count": null,
   "id": "00e4266d-c208-4093-94cf-9c0b29483eeb",
   "metadata": {},
   "outputs": [],
   "source": [
    "from sklearn.datasets import load_breast_cancer\n",
    "data = load_breast_cancer()\n",
    "data.data.shape"
   ]
  },
  {
   "cell_type": "code",
   "execution_count": null,
   "id": "3ee0df36-718e-4b8f-a763-83411cacec19",
   "metadata": {},
   "outputs": [],
   "source": [
    "data.target_names"
   ]
  },
  {
   "cell_type": "code",
   "execution_count": null,
   "id": "c06c895a-a3b0-4bb3-b4d9-7669212eb62d",
   "metadata": {},
   "outputs": [],
   "source": [
    "type(data)"
   ]
  },
  {
   "cell_type": "code",
   "execution_count": null,
   "id": "974c5504-2701-45ac-832a-f5c950f37556",
   "metadata": {},
   "outputs": [],
   "source": [
    "data.DESCR"
   ]
  },
  {
   "cell_type": "code",
   "execution_count": null,
   "id": "407f6b48-8bc2-456b-bd81-3084a25ef7e4",
   "metadata": {},
   "outputs": [],
   "source": []
  }
 ],
 "metadata": {
  "kernelspec": {
   "display_name": "Python 3",
   "language": "python",
   "name": "python3"
  },
  "language_info": {
   "codemirror_mode": {
    "name": "ipython",
    "version": 3
   },
   "file_extension": ".py",
   "mimetype": "text/x-python",
   "name": "python",
   "nbconvert_exporter": "python",
   "pygments_lexer": "ipython3",
   "version": "3.8.8"
  }
 },
 "nbformat": 4,
 "nbformat_minor": 5
}
