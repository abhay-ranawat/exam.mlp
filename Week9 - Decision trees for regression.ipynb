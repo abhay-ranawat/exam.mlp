{
 "cells": [
  {
   "cell_type": "markdown",
   "metadata": {},
   "source": [
    "# Decision Trees for regression tasks"
   ]
  },
  {
   "cell_type": "code",
   "execution_count": null,
   "metadata": {},
   "outputs": [],
   "source": [
    "# import libraries\n",
    "\n",
    "import pandas as pd\n",
    "import numpy as np\n",
    "import seaborn as sns\n",
    "import matplotlib.pyplot as plt\n",
    "\n",
    "from sklearn.datasets import fetch_california_housing\n",
    "from sklearn.metrics import mean_squared_error, mean_absolute_error, mean_absolute_percentage_error, r2_score\n",
    "from sklearn.model_selection import GridSearchCV, RandomizedSearchCV, cross_validate,\\\n",
    "                                    cross_val_score, train_test_split, ShuffleSplit, validation_curve\n",
    "from sklearn.preprocessing import PolynomialFeatures, StandardScaler\n",
    "from sklearn.pipeline import Pipeline\n",
    "from sklearn.tree import DecisionTreeRegressor, export_text\n",
    "from sklearn import tree\n"
   ]
  },
  {
   "cell_type": "code",
   "execution_count": null,
   "metadata": {},
   "outputs": [],
   "source": [
    "np.random.seed(306)"
   ]
  },
  {
   "cell_type": "code",
   "execution_count": null,
   "metadata": {},
   "outputs": [],
   "source": [
    "cv = ShuffleSplit(n_splits=10, test_size=0.2, random_state=42)"
   ]
  },
  {
   "cell_type": "markdown",
   "metadata": {},
   "source": [
    "## Load the dataset"
   ]
  },
  {
   "cell_type": "code",
   "execution_count": null,
   "metadata": {},
   "outputs": [],
   "source": [
    "features, labels = fetch_california_housing(as_frame=True, return_X_y=True)\n",
    "\n",
    "#train - test split\n",
    "com_train_features, test_features, com_train_labels,  test_labels = train_test_split(features, labels, random_state=42)\n",
    "\n",
    "# train ---> train + dev split\n",
    "train_features, dev_features, train_labels, dev_labels = train_test_split(com_train_features, com_train_labels, random_state=42)"
   ]
  },
  {
   "cell_type": "markdown",
   "metadata": {},
   "source": [
    "## Model Set up"
   ]
  },
  {
   "cell_type": "code",
   "execution_count": null,
   "metadata": {},
   "outputs": [],
   "source": [
    "from numpy import std\n",
    "\n",
    "\n",
    "dt_reg_pipeline = Pipeline([(\"scaling\", StandardScaler()),\n",
    "                            (\"dt_reg\", DecisionTreeRegressor(max_depth=3, random_state=42))])\n",
    "\n",
    "dt_reg_cv_results = cross_validate(dt_reg_pipeline,\n",
    "                                    com_train_features,\n",
    "                                    com_train_labels,\n",
    "                                    cv = cv,\n",
    "                                    scoring = \"neg_mean_absolute_error\",\n",
    "                                    return_train_score=True,\n",
    "                                    return_estimator=True)\n",
    "\n",
    "dt_reg_train_error = -1 * dt_reg_cv_results['train_score']\n",
    "dt_reg_test_error = -1 * dt_reg_cv_results['test_score']\n",
    "\n",
    "print(f\"Mean absolute error on the training set: \\n\"\n",
    "        f\"{dt_reg_train_error.mean():.3f} +/- {dt_reg_train_error.std():.3f}\")\n",
    "print(f\"Mean absolute error on the testing set: \\n\"\n",
    "        f\"{dt_reg_test_error.mean():.3f} +/- {dt_reg_test_error.std():.3f}\")"
   ]
  },
  {
   "cell_type": "markdown",
   "metadata": {},
   "source": [
    "## Visualising the tree"
   ]
  },
  {
   "cell_type": "markdown",
   "metadata": {},
   "source": [
    "### As a tree diagram"
   ]
  },
  {
   "cell_type": "code",
   "execution_count": null,
   "metadata": {},
   "outputs": [],
   "source": [
    "dt_reg_pipeline.fit(train_features, train_labels)"
   ]
  },
  {
   "cell_type": "code",
   "execution_count": null,
   "metadata": {},
   "outputs": [],
   "source": [
    "plt.figure(figsize=(28,8), facecolor='w')\n",
    "\n",
    "a = tree.plot_tree(dt_reg_pipeline[-1],\n",
    "                    feature_names = features.columns,\n",
    "                    rounded = True,\n",
    "                    filled = True,\n",
    "                    fontsize = 12)\n",
    "\n",
    "plt.show()"
   ]
  },
  {
   "cell_type": "markdown",
   "metadata": {},
   "source": [
    "### As a text based diagram"
   ]
  },
  {
   "cell_type": "code",
   "execution_count": null,
   "metadata": {},
   "outputs": [],
   "source": [
    "tree_rules = export_text(dt_reg_pipeline[-1])\n",
    "print(tree_rules)"
   ]
  },
  {
   "cell_type": "markdown",
   "metadata": {},
   "source": [
    "## Evaluation"
   ]
  },
  {
   "cell_type": "code",
   "execution_count": null,
   "metadata": {},
   "outputs": [],
   "source": [
    "test_labels_pred = dt_reg_pipeline.predict(test_features)\n",
    "\n",
    "mae = mean_absolute_error(test_labels, test_labels_pred)\n",
    "mse = mean_squared_error(test_labels, test_labels_pred)\n",
    "\n",
    "print(\"MAE: \", mae)\n",
    "print(\"MSE: \", mse)"
   ]
  },
  {
   "cell_type": "markdown",
   "metadata": {},
   "source": [
    "## HP tuning"
   ]
  },
  {
   "cell_type": "code",
   "execution_count": null,
   "metadata": {},
   "outputs": [],
   "source": [
    "param_grid = {'dt_reg__max_depth': range(1, 20),\n",
    "            'dt_reg__min_samples_split': range(2, 8)}\n",
    "dt_grid_search = GridSearchCV(dt_reg_pipeline,\n",
    "                                param_grid=param_grid,\n",
    "                                n_jobs=2,\n",
    "                                cv= cv,\n",
    "                                scoring='neg_mean_absolute_error',\n",
    "                                return_train_score=True)\n",
    "dt_grid_search.fit(com_train_features, com_train_labels)"
   ]
  },
  {
   "cell_type": "code",
   "execution_count": null,
   "metadata": {},
   "outputs": [],
   "source": [
    "dt_grid_search.best_params_"
   ]
  },
  {
   "cell_type": "code",
   "execution_count": null,
   "metadata": {},
   "outputs": [],
   "source": [
    "dt_reg_pipeline.set_params(dt_reg__max_depth=11, dt_reg__min_samples_split=5).fit(com_train_features, com_train_labels)"
   ]
  },
  {
   "cell_type": "code",
   "execution_count": null,
   "metadata": {},
   "outputs": [],
   "source": [
    "test_labels_pred = dt_reg_pipeline.predict(test_features)\n",
    "\n",
    "mae = mean_absolute_error(test_labels, test_labels_pred)\n",
    "mse = mean_squared_error(test_labels, test_labels_pred)\n",
    "r2 = r2_score(test_labels, test_labels_pred)\n",
    "\n",
    "print(\"MAE: \", mae)\n",
    "print(\"MSE: \", mse)\n",
    "print(\"R2 score: \", r2)"
   ]
  }
 ],
 "metadata": {
  "kernelspec": {
   "display_name": "Python 3.10.2 64-bit",
   "language": "python",
   "name": "python3"
  },
  "language_info": {
   "codemirror_mode": {
    "name": "ipython",
    "version": 3
   },
   "file_extension": ".py",
   "mimetype": "text/x-python",
   "name": "python",
   "nbconvert_exporter": "python",
   "pygments_lexer": "ipython3",
   "version": "3.10.2"
  },
  "orig_nbformat": 4,
  "vscode": {
   "interpreter": {
    "hash": "369f2c481f4da34e4445cda3fffd2e751bd1c4d706f27375911949ba6bb62e1c"
   }
  }
 },
 "nbformat": 4,
 "nbformat_minor": 2
}
